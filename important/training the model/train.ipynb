{
 "cells": [
  {
   "cell_type": "code",
   "execution_count": 13,
   "metadata": {},
   "outputs": [],
   "source": [
    "# don :D\n",
    "#Dataset link:\n",
    "# https://cdn.scribbr.com/wp-content/uploads//2020/02/heart.data_.zip?_ga=2.217642335.893016210.1598387608-409916526.1598387608\n",
    "\n",
    "# #Heart disease\n",
    "# The effect that the independent variables biking and smoking \n",
    "# have on the dependent variable heart disease \n",
    "\n",
    "# the percentage of people biking to work each day, the percentage of people smoking, \n",
    "# and the percentage of people with heart disease in an imaginary sample of 500 towns.\n",
    "\n",
    "import numpy as np\n",
    "import pandas as pd\n",
    "import seaborn as sns\n",
    "\n"
   ]
  },
  {
   "cell_type": "code",
   "execution_count": 14,
   "metadata": {},
   "outputs": [
    {
     "data": {
      "text/html": [
       "<div>\n",
       "<style scoped>\n",
       "    .dataframe tbody tr th:only-of-type {\n",
       "        vertical-align: middle;\n",
       "    }\n",
       "\n",
       "    .dataframe tbody tr th {\n",
       "        vertical-align: top;\n",
       "    }\n",
       "\n",
       "    .dataframe thead th {\n",
       "        text-align: right;\n",
       "    }\n",
       "</style>\n",
       "<table border=\"1\" class=\"dataframe\">\n",
       "  <thead>\n",
       "    <tr style=\"text-align: right;\">\n",
       "      <th></th>\n",
       "      <th>Unnamed: 0</th>\n",
       "      <th>biking</th>\n",
       "      <th>smoking</th>\n",
       "      <th>heart.disease</th>\n",
       "    </tr>\n",
       "  </thead>\n",
       "  <tbody>\n",
       "    <tr>\n",
       "      <th>0</th>\n",
       "      <td>1</td>\n",
       "      <td>30.801246</td>\n",
       "      <td>10.896608</td>\n",
       "      <td>11.769423</td>\n",
       "    </tr>\n",
       "    <tr>\n",
       "      <th>1</th>\n",
       "      <td>2</td>\n",
       "      <td>65.129215</td>\n",
       "      <td>2.219563</td>\n",
       "      <td>2.854081</td>\n",
       "    </tr>\n",
       "    <tr>\n",
       "      <th>2</th>\n",
       "      <td>3</td>\n",
       "      <td>1.959665</td>\n",
       "      <td>17.588331</td>\n",
       "      <td>17.177803</td>\n",
       "    </tr>\n",
       "    <tr>\n",
       "      <th>3</th>\n",
       "      <td>4</td>\n",
       "      <td>44.800196</td>\n",
       "      <td>2.802559</td>\n",
       "      <td>6.816647</td>\n",
       "    </tr>\n",
       "    <tr>\n",
       "      <th>4</th>\n",
       "      <td>5</td>\n",
       "      <td>69.428454</td>\n",
       "      <td>15.974505</td>\n",
       "      <td>4.062224</td>\n",
       "    </tr>\n",
       "    <tr>\n",
       "      <th>...</th>\n",
       "      <td>...</td>\n",
       "      <td>...</td>\n",
       "      <td>...</td>\n",
       "      <td>...</td>\n",
       "    </tr>\n",
       "    <tr>\n",
       "      <th>493</th>\n",
       "      <td>494</td>\n",
       "      <td>47.660440</td>\n",
       "      <td>27.562464</td>\n",
       "      <td>11.294392</td>\n",
       "    </tr>\n",
       "    <tr>\n",
       "      <th>494</th>\n",
       "      <td>495</td>\n",
       "      <td>45.097203</td>\n",
       "      <td>21.385620</td>\n",
       "      <td>9.616762</td>\n",
       "    </tr>\n",
       "    <tr>\n",
       "      <th>495</th>\n",
       "      <td>496</td>\n",
       "      <td>8.279743</td>\n",
       "      <td>6.423720</td>\n",
       "      <td>13.495168</td>\n",
       "    </tr>\n",
       "    <tr>\n",
       "      <th>496</th>\n",
       "      <td>497</td>\n",
       "      <td>42.345863</td>\n",
       "      <td>20.741328</td>\n",
       "      <td>10.115865</td>\n",
       "    </tr>\n",
       "    <tr>\n",
       "      <th>497</th>\n",
       "      <td>498</td>\n",
       "      <td>30.774254</td>\n",
       "      <td>23.610175</td>\n",
       "      <td>11.843556</td>\n",
       "    </tr>\n",
       "  </tbody>\n",
       "</table>\n",
       "<p>498 rows × 4 columns</p>\n",
       "</div>"
      ],
      "text/plain": [
       "     Unnamed: 0     biking    smoking  heart.disease\n",
       "0             1  30.801246  10.896608      11.769423\n",
       "1             2  65.129215   2.219563       2.854081\n",
       "2             3   1.959665  17.588331      17.177803\n",
       "3             4  44.800196   2.802559       6.816647\n",
       "4             5  69.428454  15.974505       4.062224\n",
       "..          ...        ...        ...            ...\n",
       "493         494  47.660440  27.562464      11.294392\n",
       "494         495  45.097203  21.385620       9.616762\n",
       "495         496   8.279743   6.423720      13.495168\n",
       "496         497  42.345863  20.741328      10.115865\n",
       "497         498  30.774254  23.610175      11.843556\n",
       "\n",
       "[498 rows x 4 columns]"
      ]
     },
     "execution_count": 14,
     "metadata": {},
     "output_type": "execute_result"
    }
   ],
   "source": [
    "df = pd.read_csv('heart_data.csv')\n",
    "df\n"
   ]
  },
  {
   "cell_type": "code",
   "execution_count": 15,
   "metadata": {},
   "outputs": [],
   "source": [
    "df = df.drop(\"Unnamed: 0\", axis=1)"
   ]
  },
  {
   "cell_type": "code",
   "execution_count": 16,
   "metadata": {},
   "outputs": [
    {
     "data": {
      "text/plain": [
       "<seaborn.axisgrid.FacetGrid at 0x14397fa0730>"
      ]
     },
     "execution_count": 16,
     "metadata": {},
     "output_type": "execute_result"
    }
   ],
   "source": [
    "#  the percentage of people biking vs heart disease\n",
    "sns.lmplot(x='biking', y='heart.disease', data=df)  \n",
    "#  the percentage of people smoking vs heart disease\n",
    "sns.lmplot(x='smoking', y='heart.disease', data=df)  "
   ]
  },
  {
   "cell_type": "code",
   "execution_count": 17,
   "metadata": {},
   "outputs": [],
   "source": [
    "x_df = df.drop('heart.disease', axis=1)\n",
    "y_df = df['heart.disease']\n"
   ]
  },
  {
   "cell_type": "code",
   "execution_count": 18,
   "metadata": {},
   "outputs": [],
   "source": [
    "from sklearn.model_selection import train_test_split\n",
    "X_train, X_test, y_train, y_test = train_test_split(x_df, y_df, test_size=0.3, random_state=42)"
   ]
  },
  {
   "cell_type": "code",
   "execution_count": 19,
   "metadata": {},
   "outputs": [],
   "source": [
    "from sklearn import linear_model\n"
   ]
  },
  {
   "cell_type": "code",
   "execution_count": 20,
   "metadata": {},
   "outputs": [],
   "source": [
    "#Create Linear Regression object\n",
    "model = linear_model.LinearRegression()"
   ]
  },
  {
   "cell_type": "code",
   "execution_count": 21,
   "metadata": {},
   "outputs": [
    {
     "name": "stdout",
     "output_type": "stream",
     "text": [
      "0.9811067878031208\n"
     ]
    }
   ],
   "source": [
    "model.fit(X_train, y_train) \n",
    "print(model.score(X_train, y_train)) "
   ]
  },
  {
   "cell_type": "code",
   "execution_count": 22,
   "metadata": {},
   "outputs": [
    {
     "name": "stdout",
     "output_type": "stream",
     "text": [
      "487     6.756015\n",
      "73      9.466026\n",
      "231    14.088654\n",
      "175    13.377430\n",
      "237    16.384678\n",
      "         ...    \n",
      "193    14.547755\n",
      "5       9.550046\n",
      "116    14.411483\n",
      "45     12.328899\n",
      "16      5.443342\n",
      "Name: heart.disease, Length: 150, dtype: float64 [ 5.61417231  9.23854928 15.77064591 13.96271678 16.97258754 13.38551065\n",
      "  7.02565417  9.49069576  6.83117942 12.07219675  8.04307687 10.14595377\n",
      "  5.91159788 10.14538696  7.3415733  17.65460707  4.15655062  6.87547269\n",
      "  5.24683245  6.77480127  2.08250582  7.39533445 12.03453847 13.99326278\n",
      " 12.09739539 13.60433903  6.19490735  9.56118094 13.94750676 11.82223539\n",
      "  8.52602497 11.48105164 12.41957266 17.7284097   3.53706181  6.09047121\n",
      "  8.17208463  7.50053942 12.56170624 10.47015413  4.88309485  4.00779535\n",
      "  7.798394   10.9073288  10.77541879  8.85290916 17.03995211  7.50903037\n",
      " 18.06939528  4.58997823  1.73224979  5.01082459  6.82467948 15.23572133\n",
      "  9.30772808  6.34302188  8.37575419 10.34808915 13.74750805  3.50515222\n",
      "  7.30319722  6.67918277 13.68672805  5.98409459 11.88992446 11.2611266\n",
      " 16.15963246  4.59155683 17.40458716 10.07739852  3.84790636  4.47678231\n",
      " 18.23592729 14.77297764  3.09380249 10.50714899 14.9438448   6.52284407\n",
      " 11.10330647  9.54314845 19.07493124  6.51997395 15.34548828  6.73771088\n",
      " 10.74993574  4.03833576 14.39755333 14.66693446 15.10546801 11.13588696\n",
      "  9.20158575 13.93870896 15.23139605 13.28680078  8.06763541 13.18771267\n",
      "  4.07205206  6.43321419  5.4707717   8.82176308 14.77928692  6.7358693\n",
      "  4.90871914  8.11213744  3.16422463 12.1229944  12.68489005 13.99915629\n",
      "  9.30514587 11.93065002  6.6841604  10.20574558  4.84461827 13.69749958\n",
      "  8.12662086  4.1377571   9.81200258 12.83629015 12.76902617 10.85633624\n",
      " 10.39521164 16.16879088 11.06957331 14.87316014  9.12635119 14.29116408\n",
      "  7.68893469 15.25177223 12.22295615  9.46242167 17.19919742 10.26524183\n",
      "  2.37112902 11.93435558  9.23845034 14.98243344 12.88351981 11.20920703\n",
      " 14.17171635  5.68563589  8.38651065  4.33491477 15.48035729  5.077729\n",
      " 15.90509517 14.14083575  9.31196788 13.80943537 11.92530329  5.64716739]\n",
      "Mean sq. errror between y_test and predicted = 0.00029034215597532523\n"
     ]
    }
   ],
   "source": [
    "\n",
    "prediction_test = model.predict(X_test)    \n",
    "print(y_test, prediction_test)\n",
    "print(\"Mean sq. errror between y_test and predicted =\", np.mean(prediction_test-y_test)**2)"
   ]
  },
  {
   "cell_type": "code",
   "execution_count": 24,
   "metadata": {},
   "outputs": [
    {
     "name": "stdout",
     "output_type": "stream",
     "text": [
      "[20.94129617]\n"
     ]
    },
    {
     "name": "stderr",
     "output_type": "stream",
     "text": [
      "c:\\Users\\mm256\\anaconda3\\lib\\site-packages\\sklearn\\base.py:450: UserWarning: X does not have valid feature names, but LinearRegression was fitted with feature names\n",
      "  warnings.warn(\n"
     ]
    }
   ],
   "source": [
    "# using pickle to save the model \n",
    "import pickle\n",
    "pickle.dump(model, open('model.pkl','wb'))\n",
    "\n",
    "model = pickle.load(open('model.pkl','rb'))\n",
    "print(model.predict([[20.1, 56.3]]))"
   ]
  },
  {
   "cell_type": "code",
   "execution_count": null,
   "metadata": {},
   "outputs": [],
   "source": []
  }
 ],
 "metadata": {
  "kernelspec": {
   "display_name": "base",
   "language": "python",
   "name": "python3"
  },
  "language_info": {
   "codemirror_mode": {
    "name": "ipython",
    "version": 3
   },
   "file_extension": ".py",
   "mimetype": "text/x-python",
   "name": "python",
   "nbconvert_exporter": "python",
   "pygments_lexer": "ipython3",
   "version": "3.9.13"
  }
 },
 "nbformat": 4,
 "nbformat_minor": 2
}
